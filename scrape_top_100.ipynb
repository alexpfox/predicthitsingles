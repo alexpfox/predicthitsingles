{
 "cells": [
  {
   "cell_type": "code",
   "execution_count": 7,
   "metadata": {},
   "outputs": [
    {
     "data": {
      "text/html": [
       "<style>.container { width:95% !important; }</style>"
      ],
      "text/plain": [
       "<IPython.core.display.HTML object>"
      ]
     },
     "metadata": {},
     "output_type": "display_data"
    }
   ],
   "source": [
    "from IPython.core.display import display, HTML\n",
    "display(HTML(\"<style>.container { width:95% !important; }</style>\")) #reduce margins in jupyter notebook"
   ]
  },
  {
   "cell_type": "markdown",
   "metadata": {},
   "source": [
    "# Scrape the top 100 lists\n",
    "From http://billboardtop100of.com/"
   ]
  },
  {
   "cell_type": "code",
   "execution_count": 2,
   "metadata": {},
   "outputs": [],
   "source": [
    "# 'http://billboardtop100of.com/' + year + '-2/' -- this is our lovely, consistent url format"
   ]
  },
  {
   "cell_type": "code",
   "execution_count": 8,
   "metadata": {},
   "outputs": [],
   "source": [
    "from bs4 import BeautifulSoup\n",
    "from pprint import pprint\n",
    "\n",
    "import requests\n",
    "import random\n",
    "import numpy as np\n",
    "import pandas as pd\n",
    "import re\n",
    "import time"
   ]
  },
  {
   "cell_type": "code",
   "execution_count": 9,
   "metadata": {},
   "outputs": [],
   "source": [
    "start = 1960 #somewhat arbitrary date cutoff because scraping dates before this is /much/ more time consuming\n",
    "stop = 2013 #exclusive, our dataset was released in 2011 and last updated in 2012 as far as I can tell\n",
    "\n",
    "years = np.arange(start,stop,1)\n",
    "ranks = np.arange(1,101,1)"
   ]
  },
  {
   "cell_type": "code",
   "execution_count": 10,
   "metadata": {},
   "outputs": [],
   "source": [
    "def get_top_100(year):\n",
    "\n",
    "    #get our soup\n",
    "    url = \"http://\" + 'billboardtop100of.com/' + str(year) + '-2/'\n",
    "    response = requests.get(url)\n",
    "    html = response.text\n",
    "    soup = BeautifulSoup(html, 'html.parser')\n",
    "    \n",
    "    # extract the only table (woo!) from the page\n",
    "    table = soup.find('table')\n",
    "\n",
    "    results = {} \n",
    "    info = [] \n",
    "    # each <td> is buried in a <tr>\n",
    "    for tr in table.find_all('tr'): \n",
    "        for td in tr.find_all('td'):\n",
    "            info.append(td.text)\n",
    "            \n",
    "    # dictionary comprehension uses first value (rank) as key, then next two (artist, title) as vals\n",
    "    for i in range(0, len(info), 3): \n",
    "            results[info[i]] = (info[i+1], info[i+2])\n",
    "        \n",
    "    dict_list = []\n",
    "    for k in results.keys(): # reformatting our dictionary into something pandas can eat because I'm a bad zookeeper\n",
    "        rating = k\n",
    "        artist = results[k][0]\n",
    "        song = results[k][1]\n",
    "        \n",
    "        # store the newly formatted dictionary\n",
    "        temp_dict = {'Rating': rating,\n",
    "                     'Artist' : artist,\n",
    "                     'Song' : song,\n",
    "                     'Year' : str(year)}\n",
    "        # add the temporary dict to a list of dictionaries\n",
    "        dict_list.append(temp_dict)\n",
    "        \n",
    "    # move our list of dicts into a dataframe\n",
    "    df = pd.DataFrame(dict_list)\n",
    "    return df"
   ]
  },
  {
   "cell_type": "code",
   "execution_count": 11,
   "metadata": {},
   "outputs": [],
   "source": [
    "historical_top_100 = pd.DataFrame()\n",
    "\n",
    "filler_db = pd.DataFrame(np.nan,index=np.arange(100),columns=('Rating','Artist','Song','Year')) # so that we don't error out when appending dfs for weird years\n",
    "\n",
    "for year in years: # loop through our list of years to scrape all pages\n",
    "    try:\n",
    "        historical_top_100 = historical_top_100.append((get_top_100(year)))\n",
    "        #pprint(historical_top_100)\n",
    "    except: # if we fail, instead append an empty db so that we know which years failed and can fill in later\n",
    "        d = {'Rating':np.nan, 'Artist':np.nan, 'Song':np.nan, 'Year':year }\n",
    "        filler_db = pd.DataFrame(data=d, index=np.arange(100))\n",
    "        #print(filler_db)\n",
    "        historical_top_100.join(filler_db)\n",
    "        continue\n",
    "        \n",
    "    delay = random.randint(1, 4) # add delay to make this look human-like\n",
    "    time.sleep(delay)"
   ]
  },
  {
   "cell_type": "code",
   "execution_count": null,
   "metadata": {},
   "outputs": [],
   "source": []
  },
  {
   "cell_type": "code",
   "execution_count": 12,
   "metadata": {},
   "outputs": [
    {
     "name": "stdout",
     "output_type": "stream",
     "text": [
      "                                     Artist Rating  \\\n",
      "0                               Percy Faith      1   \n",
      "1                                Jim Reeves      2   \n",
      "2                           Everly Brothers      3   \n",
      "3                            Johnny Preston      4   \n",
      "4                              Mark Dinning      5   \n",
      "5                                Brenda Lee      6   \n",
      "6                             Elvis Presley      7   \n",
      "7                               Jimmy Jones      8   \n",
      "8                             Elvis Presley      9   \n",
      "9                            Chubby Checker     10   \n",
      "10                           Connie Francis     11   \n",
      "11                             Bobby Rydell     12   \n",
      "12                            Brothers Four     13   \n",
      "13                               Jack Scott     14   \n",
      "14                            Marty Robbins     15   \n",
      "15                        Hollywood Argyles     16   \n",
      "16                           Connie Francis     17   \n",
      "17                               Brenda Lee     18   \n",
      "18                             Brian Hyland     19   \n",
      "19                              Roy Orbison     20   \n",
      "20                    Dion and The Belmonts     21   \n",
      "21                           Connie Stevens     22   \n",
      "22                                Paul Anka     23   \n",
      "23                           Frankie Avalon     24   \n",
      "24                                 Ventures     25   \n",
      "25                                 Drifters     26   \n",
      "26        Brook Benton and Dinah Washington     27   \n",
      "27                            Johnny Horton     28   \n",
      "28                                Sam Cooke     29   \n",
      "29                          Everly Brothers     30   \n",
      "..                                      ...    ...   \n",
      "70                                    Adele     71   \n",
      "71                                    Usher     72   \n",
      "72                              Wiz Khalifa     73   \n",
      "73                                    Ne-Yo     74   \n",
      "74                              Nicki Minaj     75   \n",
      "75                            Kenny Chesney     76   \n",
      "76                               Trey Songz     77   \n",
      "77                              Kirko Bangz     78   \n",
      "78                Rihanna feat. Chris Brown     79   \n",
      "79                                    B.o.B     80   \n",
      "80                                    Train     81   \n",
      "81                               Toby Keith     82   \n",
      "82               Selena Gomez and The Scene     83   \n",
      "83                              Chris Brown     84   \n",
      "84                                    Ke$ha     85   \n",
      "85  T-Pain feat. Wiz Khalifa and Lily Allen     86   \n",
      "86                          Christina Perri     87   \n",
      "87                             Jason Aldean     88   \n",
      "88                                  Rihanna     89   \n",
      "89               Havana Brown feat. Pitbull     90   \n",
      "90                          Imagine Dragons     91   \n",
      "91                                 Ca$h Out     92   \n",
      "92                               Luke Bryan     93   \n",
      "93                                  Rihanna     94   \n",
      "94                                Lee Brice     95   \n",
      "95                                Kip Moore     96   \n",
      "96                                   Miguel     97   \n",
      "97                             Jason Aldean     98   \n",
      "98                           Eli Young Band     99   \n",
      "99                              Linkin Park    100   \n",
      "\n",
      "                                                 Song  Year  \n",
      "0                         Theme From “A Summer Place”  1960  \n",
      "1                                    He’ll Have To Go  1960  \n",
      "2                                       Cathy’s Clown  1960  \n",
      "3                                        Running Bear  1960  \n",
      "4                                          Teen Angel  1960  \n",
      "5                                           I’m Sorry  1960  \n",
      "6                                   It’s Now Or Never  1960  \n",
      "7                                           Handy Man  1960  \n",
      "8                                        Stuck On You  1960  \n",
      "9                                           The Twist  1960  \n",
      "10                        Everybody’s Somebody’s Fool  1960  \n",
      "11                                           Wild One  1960  \n",
      "12                                        Greenfields  1960  \n",
      "13                  What In The World’s Come Over You  1960  \n",
      "14                                            El Paso  1960  \n",
      "15                                          Alley-oop  1960  \n",
      "16                     My Heart Has A Mind Of Its Own  1960  \n",
      "17                                     Sweet Nothin’s  1960  \n",
      "18    Itsy Bitsy Teenie Weenie Yellow Polkadot Bikini  1960  \n",
      "19                                    Only The Lonely  1960  \n",
      "20                                      Where Or When  1960  \n",
      "21                                    Sixteen Reasons  1960  \n",
      "22                                         Puppy Love  1960  \n",
      "23                                                Why  1960  \n",
      "24                                     Walk, Dont Run  1960  \n",
      "25                         Save The Last Dance For Me  1960  \n",
      "26                       Baby (You Got What It Takes)  1960  \n",
      "27                                   Sink The Bismark  1960  \n",
      "28                                         Chain Gang  1960  \n",
      "29                                       Let It Be Me  1960  \n",
      "..                                                ...   ...  \n",
      "70                                Rolling In The Deep  2012  \n",
      "71                                             Climax  2012  \n",
      "72                               Work Hard, Play Hard  2012  \n",
      "73  Let Me Love You (Until You Learn To Love Yours...  2012  \n",
      "74                                    Pound The Alarm  2012  \n",
      "75                                          Come Over  2012  \n",
      "76                                       Heart Attack  2012  \n",
      "77                                    Drank In My Cup  2012  \n",
      "78                                      Birthday Cake  2012  \n",
      "79                                            So Good  2012  \n",
      "80                             50 Ways To Say Goodbye  2012  \n",
      "81                                       Red Solo Cup  2012  \n",
      "82                          Love You Like A Love Song  2012  \n",
      "83                                  Turn Up The Music  2012  \n",
      "84                                          Die Young  2012  \n",
      "85                                          5 O’Clock  2012  \n",
      "86                                   A Thousand Years  2012  \n",
      "87                                 Take A Little Ride  2012  \n",
      "88                                         You Da One  2012  \n",
      "89                                   We Run The Night  2012  \n",
      "90                                          It’s Time  2012  \n",
      "91                                        Cashin’ Out  2012  \n",
      "92                     I Don’t Want This Night To End  2012  \n",
      "93                                           Diamonds  2012  \n",
      "94                                       Hard To Love  2012  \n",
      "95                            Somethin’ ‘Bout A Truck  2012  \n",
      "96                                              Adorn  2012  \n",
      "97                                    Fly Over States  2012  \n",
      "98                       Even If It Breaks Your Heart  2012  \n",
      "99                                       Burn It Down  2012  \n",
      "\n",
      "[5300 rows x 4 columns]\n"
     ]
    }
   ],
   "source": [
    "pprint(historical_top_100) # verify we extracted information correctly, should be ((stop-start)*100 columns)"
   ]
  },
  {
   "cell_type": "code",
   "execution_count": 13,
   "metadata": {},
   "outputs": [],
   "source": [
    "historical_top_100.to_csv('historical_top_100.csv') # export our csv"
   ]
  },
  {
   "cell_type": "code",
   "execution_count": 14,
   "metadata": {},
   "outputs": [
    {
     "name": "stderr",
     "output_type": "stream",
     "text": [
      "/Users/horisustar/anaconda3/lib/python3.7/site-packages/ipykernel_launcher.py:1: FutureWarning: from_csv is deprecated. Please use read_csv(...) instead. Note that some of the default arguments are different, so please refer to the documentation for from_csv when changing your function calls\n",
      "  \"\"\"Entry point for launching an IPython kernel.\n"
     ]
    }
   ],
   "source": [
    "hist = pd.DataFrame.from_csv('/Users/horisustar/projects/project2backup/historical_top_100.csv',sep=',') # check our csv"
   ]
  },
  {
   "cell_type": "code",
   "execution_count": 15,
   "metadata": {},
   "outputs": [
    {
     "data": {
      "text/html": [
       "<div>\n",
       "<style scoped>\n",
       "    .dataframe tbody tr th:only-of-type {\n",
       "        vertical-align: middle;\n",
       "    }\n",
       "\n",
       "    .dataframe tbody tr th {\n",
       "        vertical-align: top;\n",
       "    }\n",
       "\n",
       "    .dataframe thead th {\n",
       "        text-align: right;\n",
       "    }\n",
       "</style>\n",
       "<table border=\"1\" class=\"dataframe\">\n",
       "  <thead>\n",
       "    <tr style=\"text-align: right;\">\n",
       "      <th></th>\n",
       "      <th>Artist</th>\n",
       "      <th>Rating</th>\n",
       "      <th>Song</th>\n",
       "      <th>Year</th>\n",
       "    </tr>\n",
       "  </thead>\n",
       "  <tbody>\n",
       "    <tr>\n",
       "      <th>0</th>\n",
       "      <td>Percy Faith</td>\n",
       "      <td>1</td>\n",
       "      <td>Theme From “A Summer Place”</td>\n",
       "      <td>1960</td>\n",
       "    </tr>\n",
       "    <tr>\n",
       "      <th>1</th>\n",
       "      <td>Jim Reeves</td>\n",
       "      <td>2</td>\n",
       "      <td>He’ll Have To Go</td>\n",
       "      <td>1960</td>\n",
       "    </tr>\n",
       "    <tr>\n",
       "      <th>2</th>\n",
       "      <td>Everly Brothers</td>\n",
       "      <td>3</td>\n",
       "      <td>Cathy’s Clown</td>\n",
       "      <td>1960</td>\n",
       "    </tr>\n",
       "    <tr>\n",
       "      <th>3</th>\n",
       "      <td>Johnny Preston</td>\n",
       "      <td>4</td>\n",
       "      <td>Running Bear</td>\n",
       "      <td>1960</td>\n",
       "    </tr>\n",
       "    <tr>\n",
       "      <th>4</th>\n",
       "      <td>Mark Dinning</td>\n",
       "      <td>5</td>\n",
       "      <td>Teen Angel</td>\n",
       "      <td>1960</td>\n",
       "    </tr>\n",
       "  </tbody>\n",
       "</table>\n",
       "</div>"
      ],
      "text/plain": [
       "            Artist  Rating                         Song  Year\n",
       "0      Percy Faith       1  Theme From “A Summer Place”  1960\n",
       "1       Jim Reeves       2             He’ll Have To Go  1960\n",
       "2  Everly Brothers       3                Cathy’s Clown  1960\n",
       "3   Johnny Preston       4                 Running Bear  1960\n",
       "4     Mark Dinning       5                   Teen Angel  1960"
      ]
     },
     "execution_count": 15,
     "metadata": {},
     "output_type": "execute_result"
    }
   ],
   "source": [
    "hist.head() # looks good!\n"
   ]
  },
  {
   "cell_type": "code",
   "execution_count": null,
   "metadata": {},
   "outputs": [],
   "source": []
  }
 ],
 "metadata": {
  "kernelspec": {
   "display_name": "Python 3",
   "language": "python",
   "name": "python3"
  },
  "language_info": {
   "codemirror_mode": {
    "name": "ipython",
    "version": 3
   },
   "file_extension": ".py",
   "mimetype": "text/x-python",
   "name": "python",
   "nbconvert_exporter": "python",
   "pygments_lexer": "ipython3",
   "version": "3.7.1"
  }
 },
 "nbformat": 4,
 "nbformat_minor": 2
}
