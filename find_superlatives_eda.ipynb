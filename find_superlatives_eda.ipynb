{
 "cells": [
  {
   "cell_type": "markdown",
   "metadata": {},
   "source": [
    "# Check out the data, find notable superlatives"
   ]
  },
  {
   "cell_type": "code",
   "execution_count": 2,
   "metadata": {},
   "outputs": [],
   "source": [
    "import pandas as pd"
   ]
  },
  {
   "cell_type": "code",
   "execution_count": 3,
   "metadata": {},
   "outputs": [
    {
     "name": "stderr",
     "output_type": "stream",
     "text": [
      "/Users/horisustar/anaconda3/lib/python3.7/site-packages/ipykernel_launcher.py:1: FutureWarning: from_csv is deprecated. Please use read_csv(...) instead. Note that some of the default arguments are different, so please refer to the documentation for from_csv when changing your function calls\n",
      "  \"\"\"Entry point for launching an IPython kernel.\n",
      "/Users/horisustar/anaconda3/lib/python3.7/site-packages/ipykernel_launcher.py:2: FutureWarning: from_csv is deprecated. Please use read_csv(...) instead. Note that some of the default arguments are different, so please refer to the documentation for from_csv when changing your function calls\n",
      "  \n"
     ]
    }
   ],
   "source": [
    "million_songs = pd.DataFrame.from_csv('/Users/horisustar/projects/project2backup/million_songs.csv',sep=',') #import csvs from other notebooks\n",
    "top_100 = pd.DataFrame.from_csv('/Users/horisustar/projects/project2backup/historical_top_100.csv',sep=',') # check our csv"
   ]
  },
  {
   "cell_type": "code",
   "execution_count": 5,
   "metadata": {},
   "outputs": [
    {
     "data": {
      "text/plain": [
       "Index(['artist_name', 'rating', 'title', 'year'], dtype='object')"
      ]
     },
     "execution_count": 5,
     "metadata": {},
     "output_type": "execute_result"
    }
   ],
   "source": [
    "top_100.rename(columns = {'Artist': 'artist_name','Song':'title','Year':'year','Rating':'rating'}, inplace = True) # rename to match columns between dbs\n",
    "top_100.columns"
   ]
  },
  {
   "cell_type": "code",
   "execution_count": 8,
   "metadata": {},
   "outputs": [],
   "source": [
    "match_cols = ['artist_name', 'title'] # columns we want to merge on\n",
    "df = top_100.merge(million_songs,on=match_cols) # adding rank and ranking year to larger db"
   ]
  },
  {
   "cell_type": "code",
   "execution_count": 10,
   "metadata": {},
   "outputs": [
    {
     "data": {
      "text/plain": [
       "Index(['artist_name', 'rating', 'title', 'year_x', 'track_id', 'song_id',\n",
       "       'release', 'artist_id', 'artist_mbid', 'duration', 'artist_familiarity',\n",
       "       'artist_hotttnesss', 'year_y', 'danceability', 'energy', 'key',\n",
       "       'key_confidence', 'loudness', 'mode', 'mode_confidence',\n",
       "       'song_hotttnesss', 'tempo', 'time_signature',\n",
       "       'time_signature_confidence', 'track_7digitalid', 'shs_perf',\n",
       "       'shs_work'],\n",
       "      dtype='object')"
      ]
     },
     "execution_count": 10,
     "metadata": {},
     "output_type": "execute_result"
    }
   ],
   "source": [
    "df.columns"
   ]
  },
  {
   "cell_type": "code",
   "execution_count": 19,
   "metadata": {},
   "outputs": [
    {
     "data": {
      "text/plain": [
       "artist_name                                              Vangelis\n",
       "rating                                                         12\n",
       "title                                            Chariots Of Fire\n",
       "year_x                                                       1982\n",
       "track_id                                       TRYIZAM128E0793DB3\n",
       "song_id                                        SOUSFNE12A6701F843\n",
       "release                                          Chariots Of Fire\n",
       "artist_id                                      ARMPRI31187FB4F7D9\n",
       "artist_mbid                  57fca0e2-f9ad-4ae6-af9d-6a6f50cbcd5f\n",
       "duration                                                  1241.31\n",
       "artist_familiarity                                       0.772872\n",
       "artist_hotttnesss                                         0.49584\n",
       "year_y                                                       1981\n",
       "danceability                                                    0\n",
       "energy                                                          0\n",
       "key                                                             2\n",
       "key_confidence                                              0.838\n",
       "loudness                                                  -20.427\n",
       "mode                                                            1\n",
       "mode_confidence                                             0.783\n",
       "song_hotttnesss                                          0.785655\n",
       "tempo                                                     182.707\n",
       "time_signature                                                  4\n",
       "time_signature_confidence                                   0.861\n",
       "track_7digitalid                                           170319\n",
       "shs_perf                                                       -1\n",
       "shs_work                                                        0\n",
       "Name: 590, dtype: object"
      ]
     },
     "execution_count": 19,
     "metadata": {},
     "output_type": "execute_result"
    }
   ],
   "source": [
    "df.loc[df['duration'].idxmax()]"
   ]
  },
  {
   "cell_type": "code",
   "execution_count": null,
   "metadata": {},
   "outputs": [],
   "source": []
  }
 ],
 "metadata": {
  "kernelspec": {
   "display_name": "Python 3",
   "language": "python",
   "name": "python3"
  },
  "language_info": {
   "codemirror_mode": {
    "name": "ipython",
    "version": 3
   },
   "file_extension": ".py",
   "mimetype": "text/x-python",
   "name": "python",
   "nbconvert_exporter": "python",
   "pygments_lexer": "ipython3",
   "version": "3.7.1"
  }
 },
 "nbformat": 4,
 "nbformat_minor": 2
}
